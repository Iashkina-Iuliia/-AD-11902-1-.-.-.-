{
 "cells": [
  {
   "cell_type": "markdown",
   "id": "06cda4fe",
   "metadata": {},
   "source": [
    "## 4. Реализация приложения. Приложение может быть консольное, оконное или веб-приложение по выбору."
   ]
  },
  {
   "cell_type": "code",
   "execution_count": 2,
   "id": "d5e54341",
   "metadata": {},
   "outputs": [],
   "source": [
    "# Импортируем необходимые библиотеки\n",
    "\n",
    "import numpy as np                                      \n",
    "import pandas as pd                                    \n",
    "import xlrd                                           \n",
    "\n",
    "from sklearn.preprocessing import StandardScaler        \n",
    "from sklearn.model_selection import train_test_split    \n",
    "from sklearn.ensemble import RandomForestRegressor      \n",
    "\n",
    "import tkinter as tk                                    # для создания оконного приложения\n",
    "from tkinter import ttk\n",
    "from tkinter import *\n",
    "from tkinter import messagebox"
   ]
  },
  {
   "cell_type": "code",
   "execution_count": 3,
   "id": "0553366b",
   "metadata": {},
   "outputs": [],
   "source": [
    "dataset = pd.read_excel('ebw_data.xlsx')               "
   ]
  },
  {
   "cell_type": "code",
   "execution_count": 4,
   "id": "af26d870",
   "metadata": {},
   "outputs": [],
   "source": [
    "std_scaler = StandardScaler()                                                         \n",
    "dataset_std = std_scaler.fit_transform(np.array(dataset[['IW', 'IF', 'VW', 'FP']]))   \n",
    "dataset_std_df = pd.DataFrame(data = dataset_std, columns = ['IW', 'IF', 'VW', 'FP'])"
   ]
  },
  {
   "cell_type": "code",
   "execution_count": 5,
   "id": "c1e90dad",
   "metadata": {},
   "outputs": [],
   "source": [
    "writer = pd.ExcelWriter('output.xlsx')\n",
    "dataset_std_df.to_excel(writer)\n",
    "writer.save()\n",
    "\n",
    "# пока сидела на всевозможных форумах, вычитала, что нельзя обучать модель на стандартизованных данных, \n",
    "# а потом подавать для предсказания нестандартизованные.\n",
    "# я по всякому пыталась стандартизировать подаваемые в приложение данные, но у меня ничего не получалось.\n",
    "# поэтому решила так: скачаю файл Excel со стандартизированными данными, найду зависимость между стандартизированными \n",
    "# и нестандартизироваными данными (там оказалась обычная линейная зависимость типа y=kx+b, и просто \"стандартизирую\" подаваемые данные вручную)"
   ]
  },
  {
   "cell_type": "code",
   "execution_count": 6,
   "id": "cd49c65a",
   "metadata": {},
   "outputs": [],
   "source": [
    "y1_columns = ['Depth']                                                 \n",
    "x1_columns = ['IW', 'IF', 'VW', 'FP']                                 \n",
    "\n",
    "y1 = dataset.loc[:, y1_columns]                                      \n",
    "x1 = dataset_std_df.loc[:, x1_columns]  \n",
    "\n",
    "x1_train, x1_test, y1_train, y1_test = train_test_split(x1, y1, \n",
    "                                                        test_size=0.25, \n",
    "                                                        shuffle = True, \n",
    "                                                        random_state = 15)\n",
    "\n",
    "\n",
    "y2_columns = ['Width']                                               \n",
    "x2_columns = ['IW', 'IF', 'VW', 'FP']\n",
    "\n",
    "y2 = dataset.loc[:, y2_columns]\n",
    "x2 = dataset_std_df.loc[:, x2_columns]\n",
    "\n",
    "x2_train, x2_test, y2_train, y2_test = train_test_split(x2, y2, \n",
    "                                                        test_size=0.25, \n",
    "                                                        shuffle = True, \n",
    "                                                        random_state = 15)\n",
    "RFG1 = RandomForestRegressor()\n",
    "RFG1.fit(x1_train, np.ravel(y1_train))\n",
    "y1_test_pred = RFG1.predict(x1_test)\n",
    "\n",
    "RFG2 = RandomForestRegressor()\n",
    "RFG2.fit(x2_train, np.ravel(y2_train))\n",
    "y2_test_pred = RFG2.predict(x2_test)\n"
   ]
  },
  {
   "cell_type": "code",
   "execution_count": 7,
   "id": "8dc5278d",
   "metadata": {},
   "outputs": [
    {
     "name": "stderr",
     "output_type": "stream",
     "text": [
      "c:\\ProgramData\\Anaconda3\\lib\\site-packages\\sklearn\\base.py:450: UserWarning: X does not have valid feature names, but RandomForestRegressor was fitted with feature names\n",
      "  warnings.warn(\n",
      "c:\\ProgramData\\Anaconda3\\lib\\site-packages\\sklearn\\base.py:450: UserWarning: X does not have valid feature names, but RandomForestRegressor was fitted with feature names\n",
      "  warnings.warn(\n"
     ]
    }
   ],
   "source": [
    "def calculate_DepthWidth():\n",
    "   IW = float(IW_tf.get())\n",
    "   IW = 0.6*IW-27.4                             # это мы в Excel посчитали, как надо масштабировать\n",
    "   IF = float(IF_tf.get())\n",
    "   IF = 0.19569842*IF-27.6587103\n",
    "   VW = float(VW_tf.get())\n",
    "   VW = 0.48858776*VW-4.22085534\n",
    "   FP = float(FP_tf.get())\n",
    "   FP = 0.04685213*FP-3.6700834\n",
    "   Depth = RFG1.predict([[IW, IF, VW, FP]])\n",
    "   DEP = np.round(Depth, 3)\n",
    "   Width = RFG2.predict([[IW, IF, VW, FP]])\n",
    "   WID = np.round(Width, 3)\n",
    "   return messagebox.showinfo('Ура! Всё посчиталось', f'Глубина сварного шва (Depth) равна {DEP},\\\n",
    "                              \\n ширина сварного шва (Width) равна {WID}')\n",
    "\n",
    "window = Tk()\n",
    "window.iconbitmap('Иконкa.ico')                 # это иконка (а то там по умолчанию какое-то пёрышко, мне не понравилось)\n",
    "window.title('Рассчёт прогнозируемой глубины (Depth) и ширины (Width) сварного шва')      # это заголовок\n",
    "window.geometry('800x250')                      # это размер окна\n",
    "  \n",
    "frame = Frame(window, padx=10, pady=10)\n",
    "frame.pack(expand=True)\n",
    " \n",
    "IW_lb = Label(frame, text=\"Введите величину сварочного тока (IW)  \")\n",
    "IW_lb.grid(row=3, column=1)\n",
    " \n",
    "IF_lb = Label(frame, text=\"Введите ток фокусировки электронного пучка (IF)  \")\n",
    "IF_lb.grid(row=4, column=1)\n",
    "\n",
    "VW_lb = Label(frame, text=\"Введите скорость сварки (VW)   \")\n",
    "VW_lb.grid(row=5, column=1)\n",
    "\n",
    "FP_lb = Label(frame, text=\"Введите расстояние от поверхности образцов до электронно-оптической системы (FP)   \")\n",
    "FP_lb.grid(row=6, column=1)\n",
    " \n",
    "IW_tf = Entry(frame)\n",
    "IW_tf.grid(row=3, column=2, pady=5)\n",
    " \n",
    "IF_tf = Entry(frame)\n",
    "IF_tf.grid(row=4, column=2, pady=5)\n",
    "\n",
    "VW_tf = Entry(frame)\n",
    "VW_tf.grid(row=5, column=2, pady=5)\n",
    "\n",
    "FP_tf = Entry(frame)\n",
    "FP_tf.grid(row=6, column=2, pady=5)\n",
    " \n",
    "cal_btn = Button(frame,\n",
    "                 text='Рассчитать прогнозируемую глубину (Depth) \\nи ширину (Width) сварного шва',\n",
    "                 command=calculate_DepthWidth)\n",
    "cal_btn.grid(row=7, column=2)\n",
    " \n",
    "window.mainloop()"
   ]
  }
 ],
 "metadata": {
  "kernelspec": {
   "display_name": "Python 3.9.12 ('base')",
   "language": "python",
   "name": "python3"
  },
  "language_info": {
   "codemirror_mode": {
    "name": "ipython",
    "version": 3
   },
   "file_extension": ".py",
   "mimetype": "text/x-python",
   "name": "python",
   "nbconvert_exporter": "python",
   "pygments_lexer": "ipython3",
   "version": "3.9.12"
  },
  "vscode": {
   "interpreter": {
    "hash": "ad2bdc8ecc057115af97d19610ffacc2b4e99fae6737bb82f5d7fb13d2f2c186"
   }
  }
 },
 "nbformat": 4,
 "nbformat_minor": 5
}
