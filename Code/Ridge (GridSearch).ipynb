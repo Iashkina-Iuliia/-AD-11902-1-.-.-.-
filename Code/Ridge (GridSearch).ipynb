{
 "cells": [
  {
   "cell_type": "markdown",
   "id": "f45e0ce6",
   "metadata": {},
   "source": [
    "# Метод Ridge с поиском лучших параметров через GridSearchCV"
   ]
  },
  {
   "cell_type": "code",
   "execution_count": 1,
   "id": "e2406b2d",
   "metadata": {},
   "outputs": [],
   "source": [
    "# Импортируем необходимые библиотеки\n",
    "\n",
    "import numpy as np                                      # для работы с массивами данных\n",
    "import pandas as pd                                     # для обработки и анализа данных (чтобы красиво смотрелись таблички)\n",
    "import seaborn as sns                                   # для визуализации\n",
    "import xlrd                                             # для чтения Excel-файлов\n",
    "\n",
    "from sklearn.preprocessing import StandardScaler        # для стандартизации данных (приведение к нормальному распределению)\n",
    "\n",
    "from sklearn.model_selection import train_test_split    # для разделения на тестовую о обучающую выборки\n",
    "from sklearn.metrics import r2_score\n",
    "\n",
    "from sklearn.linear_model import Ridge                  # алгоритм машинного обучения\n",
    "from sklearn.model_selection import GridSearchCV\n",
    "\n",
    "import matplotlib.pyplot as plt                         # для визуализации\n",
    "%matplotlib inline"
   ]
  },
  {
   "cell_type": "code",
   "execution_count": 2,
   "id": "0553366b",
   "metadata": {},
   "outputs": [
    {
     "data": {
      "text/html": [
       "<div>\n",
       "<style scoped>\n",
       "    .dataframe tbody tr th:only-of-type {\n",
       "        vertical-align: middle;\n",
       "    }\n",
       "\n",
       "    .dataframe tbody tr th {\n",
       "        vertical-align: top;\n",
       "    }\n",
       "\n",
       "    .dataframe thead th {\n",
       "        text-align: right;\n",
       "    }\n",
       "</style>\n",
       "<table border=\"1\" class=\"dataframe\">\n",
       "  <thead>\n",
       "    <tr style=\"text-align: right;\">\n",
       "      <th></th>\n",
       "      <th>IW</th>\n",
       "      <th>IF</th>\n",
       "      <th>VW</th>\n",
       "      <th>FP</th>\n",
       "      <th>Depth</th>\n",
       "      <th>Width</th>\n",
       "    </tr>\n",
       "  </thead>\n",
       "  <tbody>\n",
       "    <tr>\n",
       "      <th>0</th>\n",
       "      <td>47</td>\n",
       "      <td>139</td>\n",
       "      <td>4.5</td>\n",
       "      <td>80</td>\n",
       "      <td>1.60</td>\n",
       "      <td>2.54</td>\n",
       "    </tr>\n",
       "    <tr>\n",
       "      <th>1</th>\n",
       "      <td>47</td>\n",
       "      <td>139</td>\n",
       "      <td>4.5</td>\n",
       "      <td>80</td>\n",
       "      <td>1.62</td>\n",
       "      <td>2.50</td>\n",
       "    </tr>\n",
       "    <tr>\n",
       "      <th>2</th>\n",
       "      <td>47</td>\n",
       "      <td>139</td>\n",
       "      <td>4.5</td>\n",
       "      <td>80</td>\n",
       "      <td>1.68</td>\n",
       "      <td>2.60</td>\n",
       "    </tr>\n",
       "    <tr>\n",
       "      <th>3</th>\n",
       "      <td>47</td>\n",
       "      <td>139</td>\n",
       "      <td>4.5</td>\n",
       "      <td>80</td>\n",
       "      <td>1.58</td>\n",
       "      <td>2.52</td>\n",
       "    </tr>\n",
       "    <tr>\n",
       "      <th>4</th>\n",
       "      <td>45</td>\n",
       "      <td>140</td>\n",
       "      <td>4.5</td>\n",
       "      <td>80</td>\n",
       "      <td>1.76</td>\n",
       "      <td>2.48</td>\n",
       "    </tr>\n",
       "  </tbody>\n",
       "</table>\n",
       "</div>"
      ],
      "text/plain": [
       "   IW   IF   VW  FP  Depth  Width\n",
       "0  47  139  4.5  80   1.60   2.54\n",
       "1  47  139  4.5  80   1.62   2.50\n",
       "2  47  139  4.5  80   1.68   2.60\n",
       "3  47  139  4.5  80   1.58   2.52\n",
       "4  45  140  4.5  80   1.76   2.48"
      ]
     },
     "execution_count": 2,
     "metadata": {},
     "output_type": "execute_result"
    }
   ],
   "source": [
    "dataset = pd.read_excel('ebw_data.xlsx')                # загружаем датасет\n",
    "dataset.head()                                          # смотрим первые 5 значений сверху"
   ]
  },
  {
   "cell_type": "code",
   "execution_count": 3,
   "id": "6c92f383",
   "metadata": {},
   "outputs": [
    {
     "data": {
      "text/plain": [
       "array([[ 0.8       , -0.45662965, -2.02221044,  0.07808688]])"
      ]
     },
     "execution_count": 3,
     "metadata": {},
     "output_type": "execute_result"
    }
   ],
   "source": [
    "std_scaler = StandardScaler()                                                         # вызываем метод\n",
    "dataset_std = std_scaler.fit_transform(np.array(dataset[['IW', 'IF', 'VW', 'FP']]))   # обучаем нормализатор\n",
    "dataset_std[:1]                                                                       # смотрим первую строчку"
   ]
  },
  {
   "cell_type": "code",
   "execution_count": 4,
   "id": "afa3d28f",
   "metadata": {},
   "outputs": [
    {
     "data": {
      "text/html": [
       "<div>\n",
       "<style scoped>\n",
       "    .dataframe tbody tr th:only-of-type {\n",
       "        vertical-align: middle;\n",
       "    }\n",
       "\n",
       "    .dataframe tbody tr th {\n",
       "        vertical-align: top;\n",
       "    }\n",
       "\n",
       "    .dataframe thead th {\n",
       "        text-align: right;\n",
       "    }\n",
       "</style>\n",
       "<table border=\"1\" class=\"dataframe\">\n",
       "  <thead>\n",
       "    <tr style=\"text-align: right;\">\n",
       "      <th></th>\n",
       "      <th>IW</th>\n",
       "      <th>IF</th>\n",
       "      <th>VW</th>\n",
       "      <th>FP</th>\n",
       "    </tr>\n",
       "  </thead>\n",
       "  <tbody>\n",
       "    <tr>\n",
       "      <th>0</th>\n",
       "      <td>0.8</td>\n",
       "      <td>-0.456630</td>\n",
       "      <td>-2.02221</td>\n",
       "      <td>0.078087</td>\n",
       "    </tr>\n",
       "    <tr>\n",
       "      <th>1</th>\n",
       "      <td>0.8</td>\n",
       "      <td>-0.456630</td>\n",
       "      <td>-2.02221</td>\n",
       "      <td>0.078087</td>\n",
       "    </tr>\n",
       "    <tr>\n",
       "      <th>2</th>\n",
       "      <td>0.8</td>\n",
       "      <td>-0.456630</td>\n",
       "      <td>-2.02221</td>\n",
       "      <td>0.078087</td>\n",
       "    </tr>\n",
       "    <tr>\n",
       "      <th>3</th>\n",
       "      <td>0.8</td>\n",
       "      <td>-0.456630</td>\n",
       "      <td>-2.02221</td>\n",
       "      <td>0.078087</td>\n",
       "    </tr>\n",
       "    <tr>\n",
       "      <th>4</th>\n",
       "      <td>-0.4</td>\n",
       "      <td>-0.260931</td>\n",
       "      <td>-2.02221</td>\n",
       "      <td>0.078087</td>\n",
       "    </tr>\n",
       "  </tbody>\n",
       "</table>\n",
       "</div>"
      ],
      "text/plain": [
       "    IW        IF       VW        FP\n",
       "0  0.8 -0.456630 -2.02221  0.078087\n",
       "1  0.8 -0.456630 -2.02221  0.078087\n",
       "2  0.8 -0.456630 -2.02221  0.078087\n",
       "3  0.8 -0.456630 -2.02221  0.078087\n",
       "4 -0.4 -0.260931 -2.02221  0.078087"
      ]
     },
     "execution_count": 4,
     "metadata": {},
     "output_type": "execute_result"
    }
   ],
   "source": [
    "# вернём из np.array обратно в DataFrame \n",
    "# в видеолекции \"Нормализация и стандартизация, практика\" Г.В. Соколов так делал, и мы тоже будем\n",
    "\n",
    "dataset_std_df = pd.DataFrame(data = dataset_std, columns = ['IW', 'IF', 'VW', 'FP'])\n",
    "dataset_std_df.head()"
   ]
  },
  {
   "cell_type": "code",
   "execution_count": 5,
   "id": "94216ec8",
   "metadata": {},
   "outputs": [],
   "source": [
    "# Зависимость глубины сварных швов от совокупности параметров технологических режимов \n",
    "\n",
    "y1_columns = ['Depth']                                                 # это наши выходные значения №1\n",
    "x1_columns = ['IW', 'IF', 'VW', 'FP']                                  # это наши входные значения\n",
    "\n",
    "y1 = dataset.loc[:, y1_columns]                                        # выходные значения берём из \"оригинального\" датасета\n",
    "x1 = dataset_std_df.loc[:, x1_columns]                                 # входные значения берём из стандартизированного датасета\n",
    "\n",
    "# разделяем выборку на тестовую и обучающую\n",
    "# с параметрами поигрались, чтобы достичь нормальных показателей обучения\n",
    "\n",
    "x1_train, x1_test, y1_train, y1_test = train_test_split(x1, y1, \n",
    "                                                        test_size=0.25, \n",
    "                                                        shuffle = True, \n",
    "                                                        random_state = 15)"
   ]
  },
  {
   "cell_type": "code",
   "execution_count": 6,
   "id": "fdc2ea47",
   "metadata": {},
   "outputs": [],
   "source": [
    "# Зависимость ширины сварных швов от совокупности параметров технологических режимов \n",
    "\n",
    "y2_columns = ['Width']                                                 # это наши выходные значения №2\n",
    "x2_columns = ['IW', 'IF', 'VW', 'FP']\n",
    "\n",
    "y2 = dataset.loc[:, y2_columns]\n",
    "x2 = dataset_std_df.loc[:, x2_columns]\n",
    "\n",
    "# разделяем выборку на тестовую и обучающую\n",
    "# параметры модели оставим такие же, как в x1, y1\n",
    "\n",
    "x2_train, x2_test, y2_train, y2_test = train_test_split(x2, y2, \n",
    "                                                        test_size=0.25, \n",
    "                                                        shuffle = True, \n",
    "                                                        random_state = 15)"
   ]
  },
  {
   "cell_type": "code",
   "execution_count": 8,
   "id": "ac3b45c2",
   "metadata": {},
   "outputs": [
    {
     "name": "stdout",
     "output_type": "stream",
     "text": [
      "****Результаты метода****\n",
      "R2 score для тренировочной выборки:  0.8088101147892706 \n",
      "R2 score для тестовой выборки:  0.7880287397056892\n"
     ]
    },
    {
     "name": "stderr",
     "output_type": "stream",
     "text": [
      "C:\\ProgramData\\Anaconda3\\lib\\site-packages\\sklearn\\model_selection\\_validation.py:372: FitFailedWarning: \n",
      "1000 fits failed out of a total of 8000.\n",
      "The score on these train-test partitions for these parameters will be set to nan.\n",
      "If these failures are not expected, you can try to debug them by setting error_score='raise'.\n",
      "\n",
      "Below are more details about the failures:\n",
      "--------------------------------------------------------------------------------\n",
      "1000 fits failed with the following error:\n",
      "Traceback (most recent call last):\n",
      "  File \"C:\\ProgramData\\Anaconda3\\lib\\site-packages\\sklearn\\model_selection\\_validation.py\", line 680, in _fit_and_score\n",
      "    estimator.fit(X_train, y_train, **fit_params)\n",
      "  File \"C:\\ProgramData\\Anaconda3\\lib\\site-packages\\sklearn\\linear_model\\_ridge.py\", line 1011, in fit\n",
      "    return super().fit(X, y, sample_weight=sample_weight)\n",
      "  File \"C:\\ProgramData\\Anaconda3\\lib\\site-packages\\sklearn\\linear_model\\_ridge.py\", line 705, in fit\n",
      "    raise ValueError(\n",
      "ValueError: 'lbfgs' solver can be used only when positive=True. Please use another solver.\n",
      "\n",
      "  warnings.warn(some_fits_failed_message, FitFailedWarning)\n",
      "C:\\ProgramData\\Anaconda3\\lib\\site-packages\\sklearn\\model_selection\\_search.py:969: UserWarning: One or more of the test scores are non-finite: [0.63086064 0.63086064 0.63086064 ... 0.40614095 0.40468551        nan]\n",
      "  warnings.warn(\n"
     ]
    }
   ],
   "source": [
    "model1 = Ridge()\n",
    "param_grid = {'alpha': np.arange(0, 2, 0.01, dtype=float),\n",
    "             'solver': ['auto', 'svd', 'cholesky', 'lsqr', 'sparse_cg', 'sag', 'saga', 'lbfgs']}\n",
    "grid = GridSearchCV(model1, param_grid = param_grid)\n",
    "grid.fit(x1_train, y1_train)\n",
    "\n",
    "print('****Результаты метода****')\n",
    "y1_train_pred = grid.predict(x1_train)\n",
    "y1_test_pred = grid.predict(x1_test)\n",
    "    \n",
    "R2_train = r2_score(y1_train, y1_train_pred)\n",
    "R2_test = r2_score(y1_test, y1_test_pred)\n",
    "    \n",
    "print('R2 score для тренировочной выборки: ', R2_train, \n",
    "         '\\nR2 score для тестовой выборки: ', R2_test)\n"
   ]
  },
  {
   "cell_type": "code",
   "execution_count": 9,
   "id": "510d32a9",
   "metadata": {},
   "outputs": [
    {
     "name": "stdout",
     "output_type": "stream",
     "text": [
      "0.6308606403146377\n",
      "Ridge(alpha=0.0, solver='svd')\n"
     ]
    }
   ],
   "source": [
    "print(grid.best_score_)\n",
    "print(grid.best_estimator_)"
   ]
  },
  {
   "cell_type": "code",
   "execution_count": 10,
   "id": "cece0a5f",
   "metadata": {},
   "outputs": [
    {
     "name": "stdout",
     "output_type": "stream",
     "text": [
      "****Результаты метода****\n",
      "R2 score для тренировочной выборки:  0.9383180813262846 \n",
      "R2 score для тестовой выборки:  0.9564039105534151\n"
     ]
    },
    {
     "name": "stderr",
     "output_type": "stream",
     "text": [
      "C:\\ProgramData\\Anaconda3\\lib\\site-packages\\sklearn\\model_selection\\_validation.py:372: FitFailedWarning: \n",
      "1000 fits failed out of a total of 8000.\n",
      "The score on these train-test partitions for these parameters will be set to nan.\n",
      "If these failures are not expected, you can try to debug them by setting error_score='raise'.\n",
      "\n",
      "Below are more details about the failures:\n",
      "--------------------------------------------------------------------------------\n",
      "1000 fits failed with the following error:\n",
      "Traceback (most recent call last):\n",
      "  File \"C:\\ProgramData\\Anaconda3\\lib\\site-packages\\sklearn\\model_selection\\_validation.py\", line 680, in _fit_and_score\n",
      "    estimator.fit(X_train, y_train, **fit_params)\n",
      "  File \"C:\\ProgramData\\Anaconda3\\lib\\site-packages\\sklearn\\linear_model\\_ridge.py\", line 1011, in fit\n",
      "    return super().fit(X, y, sample_weight=sample_weight)\n",
      "  File \"C:\\ProgramData\\Anaconda3\\lib\\site-packages\\sklearn\\linear_model\\_ridge.py\", line 705, in fit\n",
      "    raise ValueError(\n",
      "ValueError: 'lbfgs' solver can be used only when positive=True. Please use another solver.\n",
      "\n",
      "  warnings.warn(some_fits_failed_message, FitFailedWarning)\n",
      "C:\\ProgramData\\Anaconda3\\lib\\site-packages\\sklearn\\model_selection\\_search.py:969: UserWarning: One or more of the test scores are non-finite: [0.85278787 0.85278787 0.85278787 ... 0.85912549 0.85936751        nan]\n",
      "  warnings.warn(\n"
     ]
    }
   ],
   "source": [
    "model2 = Ridge()\n",
    "param_grid = {'alpha': np.arange(0, 2, 0.01, dtype=float),\n",
    "             'solver': ['auto', 'svd', 'cholesky', 'lsqr', 'sparse_cg', 'sag', 'saga', 'lbfgs']}\n",
    "grid = GridSearchCV(model2, param_grid = param_grid)\n",
    "grid.fit(x2_train, y2_train)\n",
    "\n",
    "print('****Результаты метода****')\n",
    "y2_train_pred = grid.predict(x2_train)\n",
    "y2_test_pred = grid.predict(x2_test)\n",
    "    \n",
    "R2_train = r2_score(y2_train, y2_train_pred)\n",
    "R2_test = r2_score(y2_test, y2_test_pred)\n",
    "    \n",
    "print('R2 score для тренировочной выборки: ', R2_train, \n",
    "         '\\nR2 score для тестовой выборки: ', R2_test)"
   ]
  },
  {
   "cell_type": "code",
   "execution_count": 11,
   "id": "0e538ba5",
   "metadata": {},
   "outputs": [
    {
     "name": "stdout",
     "output_type": "stream",
     "text": [
      "0.8595746956504472\n",
      "Ridge(alpha=1.69, solver='saga')\n"
     ]
    }
   ],
   "source": [
    "print(grid.best_score_)\n",
    "print(grid.best_estimator_)"
   ]
  },
  {
   "cell_type": "markdown",
   "id": "f8fc1a97",
   "metadata": {},
   "source": [
    "Отметим, что для нахождения Depth метод Ridge не подходит, т.к. лучшие значения достигаются при alpha=0.0.\n",
    "А в документации по методу сказано, что в таком случае использование данного метода не рекомендуется.\n",
    "https://scikit-learn.org/stable/modules/generated/sklearn.linear_model.Ridge.html"
   ]
  }
 ],
 "metadata": {
  "kernelspec": {
   "display_name": "Python 3.10.7 64-bit",
   "language": "python",
   "name": "python3"
  },
  "language_info": {
   "codemirror_mode": {
    "name": "ipython",
    "version": 3
   },
   "file_extension": ".py",
   "mimetype": "text/x-python",
   "name": "python",
   "nbconvert_exporter": "python",
   "pygments_lexer": "ipython3",
   "version": "3.10.7"
  },
  "vscode": {
   "interpreter": {
    "hash": "04424381d04638316d7271effe7d0be8a1e05d25644aad8130710165b6c7fcc0"
   }
  }
 },
 "nbformat": 4,
 "nbformat_minor": 5
}
