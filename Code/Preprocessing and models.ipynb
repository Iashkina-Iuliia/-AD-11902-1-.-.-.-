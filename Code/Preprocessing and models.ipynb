{
 "cells": [
  {
   "cell_type": "code",
   "execution_count": 2,
   "id": "5ed08b49",
   "metadata": {},
   "outputs": [],
   "source": [
    "# Импортируем необходимые библиотеки\n",
    "\n",
    "import numpy as np                                      # для работы с массивами данных\n",
    "import pandas as pd                                     # для обработки и анализа данных (чтобы красиво смотрелись таблички)\n",
    "import seaborn as sns                                   # для визуализации\n",
    "import xlrd                                             # для чтения Excel-файлов\n",
    "\n",
    "from sklearn.preprocessing import StandardScaler        # для стандартизации данных (приведение к нормальному распределению)\n",
    "\n",
    "from sklearn.model_selection import train_test_split    # для разделения на тестовую о обучающую выборки\n",
    "from sklearn.metrics import r2_score                    # для оценки качества машинного обучения \n",
    "\n",
    "from sklearn.linear_model import Ridge                  # алгоритм машинного обучения\n",
    "from sklearn.ensemble import RandomForestRegressor      # алгоритм машинного обучения\n",
    "from sklearn.ensemble import GradientBoostingRegressor  # алгоритм машинного обучения\n",
    "from sklearn.neural_network import MLPRegressor         # алгоритм машинного обучения (нейронная сеть)\n",
    "\n",
    "import matplotlib.pyplot as plt                         # для визуализации\n",
    "%matplotlib inline                                      "
   ]
  },
  {
   "cell_type": "markdown",
   "id": "e4239a5a",
   "metadata": {},
   "source": [
    "## 1. Предварительная обработка датасета"
   ]
  },
  {
   "cell_type": "code",
   "execution_count": 8,
   "id": "0553366b",
   "metadata": {},
   "outputs": [
    {
     "data": {
      "text/html": [
       "<div>\n",
       "<style scoped>\n",
       "    .dataframe tbody tr th:only-of-type {\n",
       "        vertical-align: middle;\n",
       "    }\n",
       "\n",
       "    .dataframe tbody tr th {\n",
       "        vertical-align: top;\n",
       "    }\n",
       "\n",
       "    .dataframe thead th {\n",
       "        text-align: right;\n",
       "    }\n",
       "</style>\n",
       "<table border=\"1\" class=\"dataframe\">\n",
       "  <thead>\n",
       "    <tr style=\"text-align: right;\">\n",
       "      <th></th>\n",
       "      <th>IW</th>\n",
       "      <th>IF</th>\n",
       "      <th>VW</th>\n",
       "      <th>FP</th>\n",
       "      <th>Depth</th>\n",
       "      <th>Width</th>\n",
       "    </tr>\n",
       "  </thead>\n",
       "  <tbody>\n",
       "    <tr>\n",
       "      <th>0</th>\n",
       "      <td>47</td>\n",
       "      <td>139</td>\n",
       "      <td>4.5</td>\n",
       "      <td>80</td>\n",
       "      <td>1.60</td>\n",
       "      <td>2.54</td>\n",
       "    </tr>\n",
       "    <tr>\n",
       "      <th>1</th>\n",
       "      <td>47</td>\n",
       "      <td>139</td>\n",
       "      <td>4.5</td>\n",
       "      <td>80</td>\n",
       "      <td>1.62</td>\n",
       "      <td>2.50</td>\n",
       "    </tr>\n",
       "    <tr>\n",
       "      <th>2</th>\n",
       "      <td>47</td>\n",
       "      <td>139</td>\n",
       "      <td>4.5</td>\n",
       "      <td>80</td>\n",
       "      <td>1.68</td>\n",
       "      <td>2.60</td>\n",
       "    </tr>\n",
       "    <tr>\n",
       "      <th>3</th>\n",
       "      <td>47</td>\n",
       "      <td>139</td>\n",
       "      <td>4.5</td>\n",
       "      <td>80</td>\n",
       "      <td>1.58</td>\n",
       "      <td>2.52</td>\n",
       "    </tr>\n",
       "    <tr>\n",
       "      <th>4</th>\n",
       "      <td>45</td>\n",
       "      <td>140</td>\n",
       "      <td>4.5</td>\n",
       "      <td>80</td>\n",
       "      <td>1.76</td>\n",
       "      <td>2.48</td>\n",
       "    </tr>\n",
       "  </tbody>\n",
       "</table>\n",
       "</div>"
      ],
      "text/plain": [
       "   IW   IF   VW  FP  Depth  Width\n",
       "0  47  139  4.5  80   1.60   2.54\n",
       "1  47  139  4.5  80   1.62   2.50\n",
       "2  47  139  4.5  80   1.68   2.60\n",
       "3  47  139  4.5  80   1.58   2.52\n",
       "4  45  140  4.5  80   1.76   2.48"
      ]
     },
     "execution_count": 8,
     "metadata": {},
     "output_type": "execute_result"
    }
   ],
   "source": [
    "dataset = pd.read_excel('ebw_data.xlsx')                # загружаем датасет\n",
    "dataset.head()                                          # смотрим первые 5 значений сверху"
   ]
  },
  {
   "cell_type": "code",
   "execution_count": 9,
   "id": "50ffdee4",
   "metadata": {},
   "outputs": [
    {
     "data": {
      "text/plain": [
       "(72, 6)"
      ]
     },
     "execution_count": 9,
     "metadata": {},
     "output_type": "execute_result"
    }
   ],
   "source": [
    "dataset.shape                                          # смотрим размер датасета: 72 строки, 6 колонок"
   ]
  },
  {
   "cell_type": "code",
   "execution_count": 10,
   "id": "ee0bdc16",
   "metadata": {},
   "outputs": [
    {
     "data": {
      "text/plain": [
       "IW       0\n",
       "IF       0\n",
       "VW       0\n",
       "FP       0\n",
       "Depth    0\n",
       "Width    0\n",
       "dtype: int64"
      ]
     },
     "execution_count": 10,
     "metadata": {},
     "output_type": "execute_result"
    }
   ],
   "source": [
    "dataset.isnull().sum()                                # смотрим количествто пропущенных значений. Их нет, и слава богу.\n",
    "                                                      # а то пришлось бы их удалять или заполнять. Но нам повезло."
   ]
  },
  {
   "cell_type": "code",
   "execution_count": 11,
   "id": "dca4948e",
   "metadata": {},
   "outputs": [
    {
     "data": {
      "text/plain": [
       "IW        7\n",
       "IF        8\n",
       "VW        5\n",
       "FP        5\n",
       "Depth    29\n",
       "Width    25\n",
       "dtype: int64"
      ]
     },
     "execution_count": 11,
     "metadata": {},
     "output_type": "execute_result"
    }
   ],
   "source": [
    "dataset.nunique()                                     # смотрим количество уникальных значений. Считаю, что тоже повезло\n",
    "                                                      # если бы где-то было 2, пришлось бы применять что-то типа LabelEncoder или OneHotEncoder"
   ]
  },
  {
   "cell_type": "code",
   "execution_count": 12,
   "id": "c0396142",
   "metadata": {},
   "outputs": [
    {
     "data": {
      "text/plain": [
       "<AxesSubplot:>"
      ]
     },
     "execution_count": 12,
     "metadata": {},
     "output_type": "execute_result"
    },
    {
     "data": {
      "image/png": "[encoded data removed]",
      "text/plain": [
       "<Figure size 648x504 with 6 Axes>"
      ]
     },
     "metadata": {
      "needs_background": "light"
     },
     "output_type": "display_data"
    }
   ],
   "source": [
    "plt.figure(figsize=(9, 7))                             # построим \"ящики с усами\" для анализа выбросов и аномалий\n",
    "\n",
    "pal1 = sns.color_palette('rainbow', 1)                 # для наглядности пусть входные параметры будут одного цвета\n",
    "sns.set_palette(pal1)\n",
    "plt.subplot(2, 3, 1)\n",
    "sns.boxplot(data=dataset[['IW']])\n",
    "plt.subplot(2, 3, 2)\n",
    "sns.boxplot(data=dataset[['IF']])\n",
    "plt.subplot(2, 3, 3)\n",
    "sns.boxplot(data=dataset[['VW']])\n",
    "plt.subplot(2, 3, 4)\n",
    "sns.boxplot(data=dataset[['FP']])\n",
    "\n",
    "pal2 = sns.color_palette('rainbow', 6)                  # а выходные параметры - другого цвета\n",
    "sns.set_palette(pal2)\n",
    "plt.subplot(2, 3, 5)\n",
    "sns.boxplot(data=dataset[['Depth']])\n",
    "plt.subplot(2, 3, 6)\n",
    "sns.boxplot(data=dataset[['Width']])\n",
    "\n",
    "#Как мы видим, боксплоты показывают, что у нас существуют некоторые отклонения в у VW, FP, Depth и Width. \n",
    "# Но можно ли считать это аномалиями/выбросами?"
   ]
  },
  {
   "cell_type": "code",
   "execution_count": 13,
   "id": "00d5b8cb",
   "metadata": {},
   "outputs": [
    {
     "data": {
      "text/html": [
       "<div>\n",
       "<style scoped>\n",
       "    .dataframe tbody tr th:only-of-type {\n",
       "        vertical-align: middle;\n",
       "    }\n",
       "\n",
       "    .dataframe tbody tr th {\n",
       "        vertical-align: top;\n",
       "    }\n",
       "\n",
       "    .dataframe thead th {\n",
       "        text-align: right;\n",
       "    }\n",
       "</style>\n",
       "<table border=\"1\" class=\"dataframe\">\n",
       "  <thead>\n",
       "    <tr style=\"text-align: right;\">\n",
       "      <th></th>\n",
       "      <th>IW</th>\n",
       "      <th>IF</th>\n",
       "      <th>VW</th>\n",
       "      <th>FP</th>\n",
       "      <th>Depth</th>\n",
       "      <th>Width</th>\n",
       "    </tr>\n",
       "  </thead>\n",
       "  <tbody>\n",
       "    <tr>\n",
       "      <th>count</th>\n",
       "      <td>72.000000</td>\n",
       "      <td>72.000000</td>\n",
       "      <td>72.000000</td>\n",
       "      <td>72.000000</td>\n",
       "      <td>72.000000</td>\n",
       "      <td>72.000000</td>\n",
       "    </tr>\n",
       "    <tr>\n",
       "      <th>mean</th>\n",
       "      <td>45.666667</td>\n",
       "      <td>141.333333</td>\n",
       "      <td>8.638889</td>\n",
       "      <td>78.333333</td>\n",
       "      <td>1.195556</td>\n",
       "      <td>1.970417</td>\n",
       "    </tr>\n",
       "    <tr>\n",
       "      <th>std</th>\n",
       "      <td>1.678363</td>\n",
       "      <td>5.145763</td>\n",
       "      <td>2.061078</td>\n",
       "      <td>21.493530</td>\n",
       "      <td>0.225081</td>\n",
       "      <td>0.279040</td>\n",
       "    </tr>\n",
       "    <tr>\n",
       "      <th>min</th>\n",
       "      <td>43.000000</td>\n",
       "      <td>131.000000</td>\n",
       "      <td>4.500000</td>\n",
       "      <td>50.000000</td>\n",
       "      <td>0.800000</td>\n",
       "      <td>1.680000</td>\n",
       "    </tr>\n",
       "    <tr>\n",
       "      <th>25%</th>\n",
       "      <td>44.000000</td>\n",
       "      <td>139.000000</td>\n",
       "      <td>8.000000</td>\n",
       "      <td>60.000000</td>\n",
       "      <td>1.080000</td>\n",
       "      <td>1.760000</td>\n",
       "    </tr>\n",
       "    <tr>\n",
       "      <th>50%</th>\n",
       "      <td>45.500000</td>\n",
       "      <td>141.000000</td>\n",
       "      <td>9.000000</td>\n",
       "      <td>80.000000</td>\n",
       "      <td>1.200000</td>\n",
       "      <td>1.840000</td>\n",
       "    </tr>\n",
       "    <tr>\n",
       "      <th>75%</th>\n",
       "      <td>47.000000</td>\n",
       "      <td>146.000000</td>\n",
       "      <td>10.000000</td>\n",
       "      <td>80.000000</td>\n",
       "      <td>1.290000</td>\n",
       "      <td>2.050000</td>\n",
       "    </tr>\n",
       "    <tr>\n",
       "      <th>max</th>\n",
       "      <td>49.000000</td>\n",
       "      <td>150.000000</td>\n",
       "      <td>12.000000</td>\n",
       "      <td>125.000000</td>\n",
       "      <td>1.760000</td>\n",
       "      <td>2.600000</td>\n",
       "    </tr>\n",
       "  </tbody>\n",
       "</table>\n",
       "</div>"
      ],
      "text/plain": [
       "              IW          IF         VW          FP      Depth      Width\n",
       "count  72.000000   72.000000  72.000000   72.000000  72.000000  72.000000\n",
       "mean   45.666667  141.333333   8.638889   78.333333   1.195556   1.970417\n",
       "std     1.678363    5.145763   2.061078   21.493530   0.225081   0.279040\n",
       "min    43.000000  131.000000   4.500000   50.000000   0.800000   1.680000\n",
       "25%    44.000000  139.000000   8.000000   60.000000   1.080000   1.760000\n",
       "50%    45.500000  141.000000   9.000000   80.000000   1.200000   1.840000\n",
       "75%    47.000000  146.000000  10.000000   80.000000   1.290000   2.050000\n",
       "max    49.000000  150.000000  12.000000  125.000000   1.760000   2.600000"
      ]
     },
     "execution_count": 13,
     "metadata": {},
     "output_type": "execute_result"
    }
   ],
   "source": [
    "dataset.describe()                                   # выведем описательную статистику датасета\n",
    "\n",
    "# После анализа описательной статистики я принимаю решение, что в датасете отсутствуют аномалии и выбросы,\n",
    "# т.к. не такой уж и сильный там разброс.\n",
    "# Кроме того, у нас такой маленький датасет, что мы не можем просто так взять и выкинуть какие-то значения."
   ]
  },
  {
   "cell_type": "code",
   "execution_count": 14,
   "id": "35a7dac2",
   "metadata": {},
   "outputs": [
    {
     "data": {
      "image/png": "[encoded data removed]",
      "text/plain": [
       "<Figure size 504x504 with 2 Axes>"
      ]
     },
     "metadata": {
      "needs_background": "light"
     },
     "output_type": "display_data"
    }
   ],
   "source": [
    "# построим \"тепловую\" карту, чтобы посмотреть зависимости параметров друг от друга\n",
    "\n",
    "corr = dataset.corr()\n",
    "fig, ax = plt.subplots(figsize=(7, 7))\n",
    "sns.heatmap(corr, vmin=-1, vmax=1, annot=True, fmt='.2f', cmap='twilight_shifted', ax=ax)\n",
    "plt.show()"
   ]
  },
  {
   "cell_type": "markdown",
   "id": "65860b86",
   "metadata": {},
   "source": [
    "Ура! В некоторых случаях зависимости очевидно выражены.\n",
    "\n",
    "Далее выполним стандартизацию данных.\n",
    "\n",
    "\"Почему ты использовала этот метод\", - спросите Вы.\n",
    "\n",
    "А я отвечу: \"Потому что консультировалась у экспертов\".\n",
    "\n",
    "Статья \"Модель анализа и прогнозирования технологических параметров для процесса электронно-лучевой сварки\": https://cyberleninka.ru/article/n/model-analiza-i-prognozirovaniya-tehnologicheskih-parametrov-dlya-protsessa-elektronno-luchevoy-svarki\n",
    "\n",
    "Там я увидела знакомые слова, типа StandardScaler, и решила, что не буду изобретать велосипед."
   ]
  },
  {
   "cell_type": "code",
   "execution_count": 15,
   "id": "6c92f383",
   "metadata": {},
   "outputs": [
    {
     "data": {
      "text/plain": [
       "array([[ 0.8       , -0.45662965, -2.02221044,  0.07808688]])"
      ]
     },
     "execution_count": 15,
     "metadata": {},
     "output_type": "execute_result"
    }
   ],
   "source": [
    "std_scaler = StandardScaler()                                                         # вызываем метод\n",
    "dataset_std = std_scaler.fit_transform(np.array(dataset[['IW', 'IF', 'VW', 'FP']]))   # обучаем нормализатор\n",
    "dataset_std[:1]                                                                       # смотрим первую строчку"
   ]
  },
  {
   "cell_type": "code",
   "execution_count": 16,
   "id": "afa3d28f",
   "metadata": {},
   "outputs": [
    {
     "data": {
      "text/html": [
       "<div>\n",
       "<style scoped>\n",
       "    .dataframe tbody tr th:only-of-type {\n",
       "        vertical-align: middle;\n",
       "    }\n",
       "\n",
       "    .dataframe tbody tr th {\n",
       "        vertical-align: top;\n",
       "    }\n",
       "\n",
       "    .dataframe thead th {\n",
       "        text-align: right;\n",
       "    }\n",
       "</style>\n",
       "<table border=\"1\" class=\"dataframe\">\n",
       "  <thead>\n",
       "    <tr style=\"text-align: right;\">\n",
       "      <th></th>\n",
       "      <th>IW</th>\n",
       "      <th>IF</th>\n",
       "      <th>VW</th>\n",
       "      <th>FP</th>\n",
       "    </tr>\n",
       "  </thead>\n",
       "  <tbody>\n",
       "    <tr>\n",
       "      <th>0</th>\n",
       "      <td>0.8</td>\n",
       "      <td>-0.456630</td>\n",
       "      <td>-2.02221</td>\n",
       "      <td>0.078087</td>\n",
       "    </tr>\n",
       "    <tr>\n",
       "      <th>1</th>\n",
       "      <td>0.8</td>\n",
       "      <td>-0.456630</td>\n",
       "      <td>-2.02221</td>\n",
       "      <td>0.078087</td>\n",
       "    </tr>\n",
       "    <tr>\n",
       "      <th>2</th>\n",
       "      <td>0.8</td>\n",
       "      <td>-0.456630</td>\n",
       "      <td>-2.02221</td>\n",
       "      <td>0.078087</td>\n",
       "    </tr>\n",
       "    <tr>\n",
       "      <th>3</th>\n",
       "      <td>0.8</td>\n",
       "      <td>-0.456630</td>\n",
       "      <td>-2.02221</td>\n",
       "      <td>0.078087</td>\n",
       "    </tr>\n",
       "    <tr>\n",
       "      <th>4</th>\n",
       "      <td>-0.4</td>\n",
       "      <td>-0.260931</td>\n",
       "      <td>-2.02221</td>\n",
       "      <td>0.078087</td>\n",
       "    </tr>\n",
       "  </tbody>\n",
       "</table>\n",
       "</div>"
      ],
      "text/plain": [
       "    IW        IF       VW        FP\n",
       "0  0.8 -0.456630 -2.02221  0.078087\n",
       "1  0.8 -0.456630 -2.02221  0.078087\n",
       "2  0.8 -0.456630 -2.02221  0.078087\n",
       "3  0.8 -0.456630 -2.02221  0.078087\n",
       "4 -0.4 -0.260931 -2.02221  0.078087"
      ]
     },
     "execution_count": 16,
     "metadata": {},
     "output_type": "execute_result"
    }
   ],
   "source": [
    "# вернём из np.array обратно в DataFrame \n",
    "# в видеолекции \"Нормализация и стандартизация, практика\" Г.В. Соколов так делал, и мы тоже будем\n",
    "\n",
    "dataset_std_df = pd.DataFrame(data = dataset_std, columns = ['IW', 'IF', 'VW', 'FP'])\n",
    "dataset_std_df.head()"
   ]
  },
  {
   "cell_type": "code",
   "execution_count": 17,
   "id": "55e88ba7",
   "metadata": {},
   "outputs": [
    {
     "data": {
      "text/html": [
       "<div>\n",
       "<style scoped>\n",
       "    .dataframe tbody tr th:only-of-type {\n",
       "        vertical-align: middle;\n",
       "    }\n",
       "\n",
       "    .dataframe tbody tr th {\n",
       "        vertical-align: top;\n",
       "    }\n",
       "\n",
       "    .dataframe thead th {\n",
       "        text-align: right;\n",
       "    }\n",
       "</style>\n",
       "<table border=\"1\" class=\"dataframe\">\n",
       "  <thead>\n",
       "    <tr style=\"text-align: right;\">\n",
       "      <th></th>\n",
       "      <th>IW</th>\n",
       "      <th>IF</th>\n",
       "      <th>VW</th>\n",
       "      <th>FP</th>\n",
       "    </tr>\n",
       "  </thead>\n",
       "  <tbody>\n",
       "    <tr>\n",
       "      <th>count</th>\n",
       "      <td>7.200000e+01</td>\n",
       "      <td>7.200000e+01</td>\n",
       "      <td>7.200000e+01</td>\n",
       "      <td>7.200000e+01</td>\n",
       "    </tr>\n",
       "    <tr>\n",
       "      <th>mean</th>\n",
       "      <td>1.437122e-15</td>\n",
       "      <td>-1.844204e-15</td>\n",
       "      <td>-6.784696e-17</td>\n",
       "      <td>3.361509e-16</td>\n",
       "    </tr>\n",
       "    <tr>\n",
       "      <th>std</th>\n",
       "      <td>1.007018e+00</td>\n",
       "      <td>1.007018e+00</td>\n",
       "      <td>1.007018e+00</td>\n",
       "      <td>1.007018e+00</td>\n",
       "    </tr>\n",
       "    <tr>\n",
       "      <th>min</th>\n",
       "      <td>-1.600000e+00</td>\n",
       "      <td>-2.022217e+00</td>\n",
       "      <td>-2.022210e+00</td>\n",
       "      <td>-1.327477e+00</td>\n",
       "    </tr>\n",
       "    <tr>\n",
       "      <th>25%</th>\n",
       "      <td>-1.000000e+00</td>\n",
       "      <td>-4.566297e-01</td>\n",
       "      <td>-3.121533e-01</td>\n",
       "      <td>-8.589557e-01</td>\n",
       "    </tr>\n",
       "    <tr>\n",
       "      <th>50%</th>\n",
       "      <td>-1.000000e-01</td>\n",
       "      <td>-6.523281e-02</td>\n",
       "      <td>1.764345e-01</td>\n",
       "      <td>7.808688e-02</td>\n",
       "    </tr>\n",
       "    <tr>\n",
       "      <th>75%</th>\n",
       "      <td>8.000000e-01</td>\n",
       "      <td>9.132593e-01</td>\n",
       "      <td>6.650222e-01</td>\n",
       "      <td>7.808688e-02</td>\n",
       "    </tr>\n",
       "    <tr>\n",
       "      <th>max</th>\n",
       "      <td>2.000000e+00</td>\n",
       "      <td>1.696053e+00</td>\n",
       "      <td>1.642198e+00</td>\n",
       "      <td>2.186433e+00</td>\n",
       "    </tr>\n",
       "  </tbody>\n",
       "</table>\n",
       "</div>"
      ],
      "text/plain": [
       "                 IW            IF            VW            FP\n",
       "count  7.200000e+01  7.200000e+01  7.200000e+01  7.200000e+01\n",
       "mean   1.437122e-15 -1.844204e-15 -6.784696e-17  3.361509e-16\n",
       "std    1.007018e+00  1.007018e+00  1.007018e+00  1.007018e+00\n",
       "min   -1.600000e+00 -2.022217e+00 -2.022210e+00 -1.327477e+00\n",
       "25%   -1.000000e+00 -4.566297e-01 -3.121533e-01 -8.589557e-01\n",
       "50%   -1.000000e-01 -6.523281e-02  1.764345e-01  7.808688e-02\n",
       "75%    8.000000e-01  9.132593e-01  6.650222e-01  7.808688e-02\n",
       "max    2.000000e+00  1.696053e+00  1.642198e+00  2.186433e+00"
      ]
     },
     "execution_count": 17,
     "metadata": {},
     "output_type": "execute_result"
    }
   ],
   "source": [
    "dataset_std_df.describe()                                     # выведем описательную статистику датасета после стандартизации"
   ]
  },
  {
   "cell_type": "markdown",
   "id": "3cbb3af5",
   "metadata": {},
   "source": [
    "## 2. Применение минимум 3-х алгоритмов машинного обучения (включая обязательно использование искусственных нейронных сетей) в Jupyter Notebook (или colab) позволяющих решить поставленную задачу анализа данных, выбрать лучшую модель и применить ее в приложении"
   ]
  },
  {
   "cell_type": "code",
   "execution_count": 18,
   "id": "94216ec8",
   "metadata": {},
   "outputs": [],
   "source": [
    "# Зависимость глубины сварных швов от совокупности параметров технологических режимов \n",
    "\n",
    "y1_columns = ['Depth']                                                 # это наши выходные значения №1\n",
    "x1_columns = ['IW', 'IF', 'VW', 'FP']                                  # это наши входные значения\n",
    "\n",
    "y1 = dataset.loc[:, y1_columns]                                        # выходные значения берём из \"оригинального\" датасета\n",
    "x1 = dataset_std_df.loc[:, x1_columns]                                 # входные значения берём из стандартизированного датасета\n",
    "\n",
    "# разделяем выборку на тестовую и обучающую\n",
    "# с параметрами поигрались, чтобы достичь нормальных показателей обучения\n",
    "\n",
    "x1_train, x1_test, y1_train, y1_test = train_test_split(x1, y1, \n",
    "                                                        test_size=0.25, \n",
    "                                                        shuffle = True, \n",
    "                                                        random_state = 15)"
   ]
  },
  {
   "cell_type": "code",
   "execution_count": 19,
   "id": "fdc2ea47",
   "metadata": {},
   "outputs": [],
   "source": [
    "# Зависимость ширины сварных швов от совокупности параметров технологических режимов \n",
    "\n",
    "y2_columns = ['Width']                                                 # это наши выходные значения №2\n",
    "x2_columns = ['IW', 'IF', 'VW', 'FP']\n",
    "\n",
    "y2 = dataset.loc[:, y2_columns]\n",
    "x2 = dataset_std_df.loc[:, x2_columns]\n",
    "\n",
    "# разделяем выборку на тестовую и обучающую\n",
    "# параметры модели оставим такие же, как в x1, y1\n",
    "\n",
    "x2_train, x2_test, y2_train, y2_test = train_test_split(x2, y2, \n",
    "                                                        test_size=0.25, \n",
    "                                                        shuffle = True, \n",
    "                                                        random_state = 15)"
   ]
  },
  {
   "cell_type": "markdown",
   "id": "6cb02894",
   "metadata": {},
   "source": [
    "Здесь будут все применяемые методы, чтобы учить \"скопом\". \n",
    "С параметрами поигрались, чтобы достичь нормальных показателей обучения.\n",
    "Конечно, в статье всё описывалось не совсем так, но, во-первых, \"мы такого не проходили\", для меня это и так высший пилотаж, учитывая, что до этих курсов мои знания программирования ограничивались основами Pascal в 9 классе. А, во вторых, вроде, и так всё норм получилось... что на самом деле меня пугает, так как я явно сделала что-то не так.\n",
    "\n",
    "Для поиска лучших параметров можно было бы использовать GridSearchCV, но если метод Ridge мой ноут ещё осилил, то на RandomForestRegressor я поняла, что он сейчас умрёт. При общении с однокрусниками узнала, что не только я пыталась найти лучшие параметры для RandomForestRegressor с помощью GridSearchCV, и не только у меня машина \"не потянула\", так что я себя прощаю. Для подтверждения того, что я знаю о существовании  GridSearchCV, загружен файл \"Ridge (GridSearch).ipynb\""
   ]
  },
  {
   "cell_type": "code",
   "execution_count": 20,
   "id": "ac3b45c2",
   "metadata": {},
   "outputs": [],
   "source": [
    "classifiers = [Ridge(alpha = 0.04),\n",
    "               RandomForestRegressor(),\n",
    "               GradientBoostingRegressor(n_estimators = 25,\n",
    "                              max_depth = 8,\n",
    "                              criterion = 'squared_error',\n",
    "                              learning_rate = 0.08,\n",
    "                              min_samples_leaf = 8,\n",
    "                              min_samples_split = 5),\n",
    "              MLPRegressor(solver = 'sgd', \n",
    "                           random_state = 15,\n",
    "                           max_iter = 500, \n",
    "                           batch_size = 10)]"
   ]
  },
  {
   "cell_type": "code",
   "execution_count": 21,
   "id": "54b2050a",
   "metadata": {},
   "outputs": [
    {
     "name": "stdout",
     "output_type": "stream",
     "text": [
      "Зависимость глубины сварных швов от совокупности параметров технологических режимов\n",
      "\n",
      "\n",
      "Ridge\n",
      "****Результаты метода****\n",
      "R2 score для тренировочной выборки:  0.8085255132716349 \n",
      "R2 score для тестовой выборки:  0.7887142484853096\n",
      "\n",
      "\n",
      "RandomForestRegressor\n",
      "****Результаты метода****\n",
      "R2 score для тренировочной выборки:  0.9318150598805597 \n",
      "R2 score для тестовой выборки:  0.8911573900033853\n",
      "\n",
      "\n",
      "GradientBoostingRegressor\n",
      "****Результаты метода****\n",
      "R2 score для тренировочной выборки:  0.8327707808486691 \n",
      "R2 score для тестовой выборки:  0.8097870605803075\n",
      "\n",
      "\n",
      "MLPRegressor\n",
      "****Результаты метода****\n",
      "R2 score для тренировочной выборки:  0.8748870297672311 \n",
      "R2 score для тестовой выборки:  0.7916163366768194\n"
     ]
    }
   ],
   "source": [
    "print('Зависимость глубины сварных швов от совокупности параметров технологических режимов',)\n",
    "    \n",
    "for clf in classifiers:\n",
    "    clf.fit(x1_train, np.ravel(y1_train))                           # использовала np.ravel(), чтобы убрать предупреждение \n",
    "    name = clf.__class__.__name__                                   #\"A column-vector y was passed when a 1d array was expected\"\n",
    "    \n",
    "    print('\\n')\n",
    "    print(name)\n",
    "    \n",
    "    print('****Результаты метода****')\n",
    "    y1_train_pred = clf.predict(x1_train)\n",
    "    y1_test_pred = clf.predict(x1_test)\n",
    "    \n",
    "    R2_train = r2_score(y1_train, y1_train_pred)\n",
    "    R2_test = r2_score(y1_test, y1_test_pred)\n",
    "    \n",
    "    print('R2 score для тренировочной выборки: ', R2_train, \n",
    "         '\\nR2 score для тестовой выборки: ', R2_test)"
   ]
  },
  {
   "cell_type": "code",
   "execution_count": 22,
   "id": "3988a957",
   "metadata": {},
   "outputs": [
    {
     "name": "stdout",
     "output_type": "stream",
     "text": [
      "Зависимость ширины сварных швов от совокупности параметров технологических режимов\n",
      "\n",
      "\n",
      "Ridge\n",
      "****Результаты метода****\n",
      "R2 score для тренировочной выборки:  0.9392403701797493 \n",
      "R2 score для тестовой выборки:  0.9566923421139123\n",
      "\n",
      "\n",
      "RandomForestRegressor\n",
      "****Результаты метода****\n",
      "R2 score для тренировочной выборки:  0.975452164792809 \n",
      "R2 score для тестовой выборки:  0.973537373897304\n",
      "\n",
      "\n",
      "GradientBoostingRegressor\n",
      "****Результаты метода****\n",
      "R2 score для тренировочной выборки:  0.93721840244698 \n",
      "R2 score для тестовой выборки:  0.9384554588245282\n",
      "\n",
      "\n",
      "MLPRegressor\n",
      "****Результаты метода****\n",
      "R2 score для тренировочной выборки:  0.9119822128164368 \n",
      "R2 score для тестовой выборки:  0.9227273471895572\n"
     ]
    }
   ],
   "source": [
    "print('Зависимость ширины сварных швов от совокупности параметров технологических режимов',)\n",
    "    \n",
    "for clf in classifiers:\n",
    "    clf.fit(x2_train, np.ravel(y2_train))\n",
    "    name = clf.__class__.__name__\n",
    "    \n",
    "    print('\\n')\n",
    "    print(name)\n",
    "    \n",
    "    print('****Результаты метода****')\n",
    "    y2_train_pred = clf.predict(x2_train)\n",
    "    y2_test_pred = clf.predict(x2_test)\n",
    "    \n",
    "    R2_train = r2_score(y2_train, y2_train_pred)\n",
    "    R2_test = r2_score(y2_test, y2_test_pred)\n",
    "    \n",
    "    print('R2 score для тренировочной выборки: ', R2_train, \n",
    "         '\\nR2 score для тестовой выборки: ', R2_test)"
   ]
  },
  {
   "cell_type": "markdown",
   "id": "d92b3124",
   "metadata": {},
   "source": [
    "## Вывод:\n",
    "\n",
    "Несмотря на попытку поменять какие-то параметры, лучший результат оказался у метода  RandomForestRegressor с параметрами по умолчанию."
   ]
  }
 ],
 "metadata": {
  "kernelspec": {
   "display_name": "Python 3.9.12 ('base')",
   "language": "python",
   "name": "python3"
  },
  "language_info": {
   "codemirror_mode": {
    "name": "ipython",
    "version": 3
   },
   "file_extension": ".py",
   "mimetype": "text/x-python",
   "name": "python",
   "nbconvert_exporter": "python",
   "pygments_lexer": "ipython3",
   "version": "3.9.12"
  },
  "vscode": {
   "interpreter": {
    "hash": "ad2bdc8ecc057115af97d19610ffacc2b4e99fae6737bb82f5d7fb13d2f2c186"
   }
  }
 },
 "nbformat": 4,
 "nbformat_minor": 5
}
